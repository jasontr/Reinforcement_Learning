{
 "cells": [
  {
   "cell_type": "markdown",
   "metadata": {},
   "source": [
    "# n_armed_bandit_problem"
   ]
  },
  {
   "cell_type": "markdown",
   "metadata": {},
   "source": [
    "###  (1) With greedy & $\\epsilon$-greedy method ( $\\epsilon$ = 0.1, 0.01 )"
   ]
  },
  {
   "cell_type": "code",
   "execution_count": 22,
   "metadata": {
    "collapsed": false
   },
   "outputs": [
    {
     "name": "stdout",
     "output_type": "stream",
     "text": [
      "Populating the interactive namespace from numpy and matplotlib\n"
     ]
    },
    {
     "data": {
      "text/plain": [
       "<matplotlib.legend.Legend at 0x34b4f400>"
      ]
     },
     "execution_count": 22,
     "metadata": {},
     "output_type": "execute_result"
    },
    {
     "data": {
      "image/png": "[encoded data removed]",
      "text/plain": [
       "<matplotlib.figure.Figure at 0x11cecbe0>"
      ]
     },
     "metadata": {},
     "output_type": "display_data"
    }
   ],
   "source": [
    "import random\n",
    "import matplotlib.pyplot as plt\n",
    "%pylab inline --no-import-all\n",
    "#initialize\n",
    "time = 1000\n",
    "task = 2000\n",
    "q = []\n",
    "n_method = 3\n",
    "tau = 0.1\n",
    "for i in range(10):\n",
    "    q.append(random.gauss(0, 1))\n",
    "#a_elements = range(10)\n",
    "#A = []#elements of A is the action chosen #A[t]\n",
    "#K = [0.0]*10 # K(a) counter of action a\n",
    "#R = [0.0]*10 # R(a) sum of the reward of a\n",
    "#Q = [0.0]*10 \n",
    "qm = max(q)\n",
    "Rt = [[[0.0 for i in range(time)] for j in range(task)] for k in range(n_method)] \n",
    "e = 0.1\n",
    "         \n",
    "def random_pick(Probility_Variable, Probility):\n",
    "    x = random.uniform(0, 1)\n",
    "    cumu_prob = 0.0\n",
    "    for item, prob in zip(Probility_Variable, Probility):\n",
    "        cumu_prob += prob\n",
    "        if x < cumu_prob :break\n",
    "    return item\n",
    "\n",
    "def Qt(K_a, R_a, q_a):\n",
    "    K_a += 1\n",
    "    R_a += random.gauss(q_a, 1)\n",
    "    Q_a = R_a/K_a\n",
    "    return K_a, R_a, Q_a\n",
    "\n",
    "def greedy(t, task, method):\n",
    "    K = [0.0]*10\n",
    "    R = [0.0]*10\n",
    "    Q = [0.0]*10\n",
    "    for ti in range(t):\n",
    "        if ti < 1:\n",
    "            act = random_pick(range(10), [0.1]*10)\n",
    "            K[act], R[act], Q[act] = Qt(K[act], R[act], q[act])\n",
    "        else:\n",
    "            act = Q.index(max(Q))#list index & max min\n",
    "            K[act], R[act], Q[act] = Qt(K[act], R[act], q[act])\n",
    "        Rt[method][task][ti] = sum(R)/(ti+1)\n",
    "\n",
    "\n",
    "def egreedy(t, e, task, method):\n",
    "    K = [0.0]*10\n",
    "    R = [0.0]*10\n",
    "    Q = [0.0]*10\n",
    "    for ti in range(t):\n",
    "        if ti < 1 or random_pick([True, False],[e, 1-e]):\n",
    "            act = random_pick(range(10), [0.1]*10)\n",
    "            K[act], R[act], Q[act] = Qt(K[act], R[act], q[act])\n",
    "        else:\n",
    "            act = Q.index(max(Q))#list index & max min\n",
    "            K[act], R[act], Q[act] = Qt(K[act], R[act], q[act])\n",
    "        Rt[method][task][ti] = sum(R)/(ti+1)\n",
    "\n",
    "#using greedy method\n",
    "for k in range(task):    \n",
    "    greedy(time, k, 0)\n",
    "\n",
    "    egreedy(time, 0.1, k, 1)\n",
    "\n",
    "    egreedy(time, 0.01, k, 2)\n",
    "\n",
    "\n",
    "for method_ in range(n_method):\n",
    "    for ti in range(time):\n",
    "        for task_ in range(1,task):\n",
    "            Rt[method_][0][ti] += Rt[method_][task_][ti]\n",
    "        Rt[method_][0][ti] = Rt[method_][0][ti]/task\n",
    "\n",
    "plt.plot(range(time), [qm]*time)\n",
    "plt.plot(range(time), Rt[0][0][:], label = \"greedy\")\n",
    "plt.plot(range(time), Rt[1][0][:], label = \"egreedy 0.1\")\n",
    "plt.plot(range(time), Rt[2][0][:], label = \"egreedy 0.01\")\n",
    "\n",
    "\n",
    "plt.legend(loc=\"lower right\")"
   ]
  },
  {
   "cell_type": "markdown",
   "metadata": {},
   "source": [
    "### (2) Create a class of (1)"
   ]
  },
  {
   "cell_type": "code",
   "execution_count": 9,
   "metadata": {
    "collapsed": false
   },
   "outputs": [
    {
     "name": "stdout",
     "output_type": "stream",
     "text": [
      "Populating the interactive namespace from numpy and matplotlib\n"
     ]
    },
    {
     "data": {
      "text/plain": [
       "<matplotlib.legend.Legend at 0x18d3ddd8>"
      ]
     },
     "execution_count": 9,
     "metadata": {},
     "output_type": "execute_result"
    },
    {
     "data": {
      "image/png": "[encoded data removed]",
      "text/plain": [
       "<matplotlib.figure.Figure at 0x69444e0>"
      ]
     },
     "metadata": {},
     "output_type": "display_data"
    }
   ],
   "source": [
    "# -*- coding: UTF-8 -*-\n",
    "import random\n",
    "import matplotlib.pyplot as plt\n",
    "%pylab inline --no-import-all\n",
    "#initialize\n",
    "class n_armed_bandit:\n",
    "    n = 10 #arm\n",
    "    time = 1000\n",
    "    task = 2000\n",
    "    q = []\n",
    "    n_method = 3\n",
    "    tau = 0.1\n",
    "    Rt = []\n",
    "    qm = 0\n",
    "    \n",
    "    def __init__(self):\n",
    "        for i in range(n_armed_bandit.n):\n",
    "            n_armed_bandit.q.append(random.gauss(0, 1))\n",
    "        n_armed_bandit.qm = max(n_armed_bandit.q)\n",
    "        n_armed_bandit.Rt = [[[0.0 for i in range(n_armed_bandit.time)] for j in range(n_armed_bandit.task)] for k in range(n_armed_bandit.n_method)]\n",
    "        \n",
    "    def random_pick(self, Probility_Variable, Probility):\n",
    "        x = random.uniform(0, 1)\n",
    "        cumu_prob = 0.0\n",
    "        for item, prob in zip(Probility_Variable, Probility):\n",
    "            cumu_prob += prob\n",
    "            if x < cumu_prob :break\n",
    "        return item\n",
    "\n",
    "    def Qt(self, K_a, R_a, q_a):\n",
    "        K_a += 1\n",
    "        R_a += random.gauss(q_a, 1)\n",
    "        Q_a = R_a/K_a\n",
    "        return K_a, R_a, Q_a\n",
    "\n",
    "    def greedy(self, t, task, method):\n",
    "        K = [0.0]*n_armed_bandit.n\n",
    "        R = [0.0]*n_armed_bandit.n\n",
    "        Q = [0.0]*n_armed_bandit.n\n",
    "        for ti in range(t):\n",
    "            if ti < 1:\n",
    "                act = self.random_pick(range(10), [0.1]*10)\n",
    "                K[act], R[act], Q[act] = self.Qt(K[act], R[act], self.q[act])\n",
    "            else:\n",
    "                act = Q.index(max(Q))#list index & max min\n",
    "                K[act], R[act], Q[act] = self.Qt(K[act], R[act], self.q[act])\n",
    "            n_armed_bandit.Rt[method][task][ti] = sum(R)/(ti+1)\n",
    "\n",
    "    def egreedy(self, t, e, task, method):\n",
    "        K = [0.0]*n_armed_bandit.n\n",
    "        R = [0.0]*n_armed_bandit.n\n",
    "        Q = [0.0]*n_armed_bandit.n\n",
    "        for ti in range(t):\n",
    "            if ti < 1 or self.random_pick([True, False],[e, 1-e]):\n",
    "                act = self.random_pick(range(n_armed_bandit.n), [1.0/n_armed_bandit.n]*n_armed_bandit.n)\n",
    "                K[act], R[act], Q[act] = self.Qt(K[act], R[act], self.q[act])\n",
    "            else:\n",
    "                act = Q.index(max(Q))#list index & max min\n",
    "                K[act], R[act], Q[act] = self.Qt(K[act], R[act], self.q[act])\n",
    "            n_armed_bandit.Rt[method][task][ti] = sum(R)/(ti+1)\n",
    "\n",
    "#a_elements = range(10)\n",
    "#A = []#elements of A is the action chosen #A[t]\n",
    "#K = [0.0]*10 # K(a) counter of action a\n",
    "#R = [0.0]*10 # R(a) sum of the reward of a\n",
    "#Q = [0.0]*10 \n",
    "\n",
    " \n",
    "e = 0.1\n",
    "         \n",
    "        \n",
    "def softmax(t, tau, task, method):\n",
    "    K = [0.0]*10\n",
    "    R = [0.0]*10\n",
    "    Q = [0.0]*10\n",
    "solver = n_armed_bandit()\n",
    "#using greedy method\n",
    "for k in range(solver.task):    \n",
    "    solver.greedy(solver.time, k, 0)\n",
    "\n",
    "    solver.egreedy(solver.time, 0.1, k, 1)\n",
    "\n",
    "    solver.egreedy(solver.time, 0.01, k, 2)\n",
    "\n",
    "\n",
    "for method_ in range(solver.n_method):\n",
    "    for ti in range(solver.time):\n",
    "        for task_ in range(1,solver.task):\n",
    "            solver.Rt[method_][0][ti] += solver.Rt[method_][task_][ti]\n",
    "        solver.Rt[method_][0][ti] = solver.Rt[method_][0][ti]/solver.task\n",
    "\n",
    "plt.plot(range(solver.time), [solver.qm]*solver.time)\n",
    "plt.plot(range(solver.time), solver.Rt[0][0][:], label = \"greedy\")\n",
    "plt.plot(range(solver.time), solver.Rt[1][0][:], label = \"egreedy 0.1\")\n",
    "plt.plot(range(solver.time), solver.Rt[2][0][:], label = \"egreedy 0.01\")\n",
    "\n",
    "\n",
    "plt.legend(loc=\"lower right\")"
   ]
  },
  {
   "cell_type": "markdown",
   "metadata": {},
   "source": [
    "###  (3) With greedy & $\\epsilon$-greedy method ( $\\epsilon$ = 0.1 ) & softmax method ( $\\tau$ = 23 )"
   ]
  },
  {
   "cell_type": "code",
   "execution_count": 11,
   "metadata": {
    "collapsed": false
   },
   "outputs": [
    {
     "name": "stdout",
     "output_type": "stream",
     "text": [
      "Populating the interactive namespace from numpy and matplotlib\n"
     ]
    },
    {
     "data": {
      "text/plain": [
       "<matplotlib.legend.Legend at 0xbd6eba8>"
      ]
     },
     "execution_count": 11,
     "metadata": {},
     "output_type": "execute_result"
    },
    {
     "data": {
      "image/png": "[encoded data removed]",
      "text/plain": [
       "<matplotlib.figure.Figure at 0xa9d2898>"
      ]
     },
     "metadata": {},
     "output_type": "display_data"
    }
   ],
   "source": [
    "# -*- coding: UTF-8 -*-\n",
    "import random, math\n",
    "import matplotlib.pyplot as plt\n",
    "%pylab inline --no-import-all\n",
    "#initialize\n",
    "class n_armed_bandit:\n",
    "    n = 10 #arm\n",
    "    time = 1000\n",
    "    task = 2000\n",
    "    q = []\n",
    "    n_method = 3\n",
    "    tau = 23\n",
    "    Rt = []\n",
    "    qm = 0\n",
    "    \n",
    "    def __init__(self):\n",
    "        for i in range(self.n):\n",
    "            self.q.append(random.gauss(0, 1))\n",
    "        self.qm = max(self.q)\n",
    "        self.Rt = [[[0.0 for i in range(self.time)] for j in range(self.task)] for k in range(self.n_method)]\n",
    "        \n",
    "    def random_pick(self, Probility_Variable, Probility):\n",
    "        x = random.uniform(0, 1)\n",
    "        cumu_prob = 0.0\n",
    "        for item, prob in zip(Probility_Variable, Probility):\n",
    "            cumu_prob += prob\n",
    "            if x < cumu_prob :break\n",
    "        return item\n",
    "\n",
    "    def Qt(self, K_a, R_a, q_a):\n",
    "        K_a += 1\n",
    "        R_a += random.gauss(q_a, 1)\n",
    "        Q_a = R_a/K_a\n",
    "        return K_a, R_a, Q_a\n",
    "\n",
    "    def greedy(self, t, task, method):\n",
    "        K = [0.0]*self.n\n",
    "        R = [0.0]*self.n\n",
    "        Q = [0.0]*self.n\n",
    "        for ti in range(t):\n",
    "            if ti < 1:\n",
    "                act = self.random_pick(range(10), [0.1]*10)\n",
    "                K[act], R[act], Q[act] = self.Qt(K[act], R[act], self.q[act])\n",
    "            else:\n",
    "                act = Q.index(max(Q))#list index & max min\n",
    "                K[act], R[act], Q[act] = self.Qt(K[act], R[act], self.q[act])\n",
    "            self.Rt[method][task][ti] = sum(R)/(ti+1)\n",
    "\n",
    "    def egreedy(self, t, e, task, method):\n",
    "        K = [0.0]*self.n\n",
    "        R = [0.0]*self.n\n",
    "        Q = [0.0]*self.n\n",
    "        for ti in range(t):\n",
    "            if ti < 1 or self.random_pick([True, False],[e, 1-e]):\n",
    "                act = self.random_pick(range(self.n), [1.0/self.n]*self.n)\n",
    "                K[act], R[act], Q[act] = self.Qt(K[act], R[act], self.q[act])\n",
    "            else:\n",
    "                act = Q.index(max(Q))#list index & max min\n",
    "                K[act], R[act], Q[act] = self.Qt(K[act], R[act], self.q[act])\n",
    "            self.Rt[method][task][ti] = sum(R)/(ti+1)\n",
    "\n",
    "    def softmax(self, t, task, method):\n",
    "        K = [0.0]*self.n\n",
    "        R = [0.0]*self.n\n",
    "        Q = [0.0]*self.n\n",
    "        Gibbs = [1.0/self.n]*self.n\n",
    "        for ti in range(t):\n",
    "            act = self.random_pick(range(self.n), Gibbs)\n",
    "            K[act], R[act], Q[act] = self.Qt(K[act], R[act], self.q[act])\n",
    "            Gibbs = self.calcGibbs(Q)\n",
    "            self.Rt[method][task][ti] = sum(R)/(ti+1)\n",
    "            \n",
    "    def calcGibbs(self, Q):\n",
    "        temp = [math.exp(Q[i]/self.tau) for i in range(self.n)]\n",
    "        sumt = sum(temp)\n",
    "        G = [temp[i]/sumt for i in range(self.n)]\n",
    "        return G\n",
    "#a_elements = range(10)\n",
    "#A = []#elements of A is the action chosen #A[t]\n",
    "#K = [0.0]*10 # K(a) counter of action a\n",
    "#R = [0.0]*10 # R(a) sum of the reward of a\n",
    "#Q = [0.0]*10 \n",
    "\n",
    " \n",
    "e = 0.1\n",
    "         \n",
    "        \n",
    "\n",
    "solver = n_armed_bandit()\n",
    "#using greedy method\n",
    "for k in range(solver.task):    \n",
    "    solver.greedy(solver.time, k, 0)\n",
    "\n",
    "    #solver.egreedy(solver.time, 0.1, k, 1)\n",
    "\n",
    "    solver.softmax(solver.time, k, 2)\n",
    "    \n",
    "\n",
    "for method_ in range(solver.n_method):\n",
    "    for ti in range(solver.time):\n",
    "        for task_ in range(1,solver.task):\n",
    "            solver.Rt[method_][0][ti] += solver.Rt[method_][task_][ti]\n",
    "        solver.Rt[method_][0][ti] = solver.Rt[method_][0][ti]/solver.task\n",
    "\n",
    "plt.plot(range(solver.time), [solver.qm]*solver.time)\n",
    "plt.plot(range(solver.time), solver.Rt[0][0][:], label = \"greedy\")\n",
    "plt.plot(range(solver.time), solver.Rt[1][0][:], label = \"egreedy 0.1\")\n",
    "plt.plot(range(solver.time), solver.Rt[2][0][:], label = \"softmax tau=23\")\n",
    "\n",
    "\n",
    "plt.legend(loc=\"lower right\")"
   ]
  },
  {
   "cell_type": "markdown",
   "metadata": {},
   "source": [
    "###  (4) With greedy & softmax method ( $\\tau$ = 0.1 )"
   ]
  },
  {
   "cell_type": "code",
   "execution_count": 15,
   "metadata": {
    "collapsed": false
   },
   "outputs": [
    {
     "name": "stdout",
     "output_type": "stream",
     "text": [
      "Populating the interactive namespace from numpy and matplotlib\n"
     ]
    },
    {
     "data": {
      "text/plain": [
       "<matplotlib.legend.Legend at 0xd47d978>"
      ]
     },
     "execution_count": 15,
     "metadata": {},
     "output_type": "execute_result"
    },
    {
     "data": {
      "image/png": "[encoded data removed]",
      "text/plain": [
       "<matplotlib.figure.Figure at 0x8e78d68>"
      ]
     },
     "metadata": {},
     "output_type": "display_data"
    }
   ],
   "source": [
    "# -*- coding: UTF-8 -*-\n",
    "import random, math\n",
    "import matplotlib.pyplot as plt\n",
    "%pylab inline --no-import-all\n",
    "#initialize\n",
    "class n_armed_bandit:\n",
    "    n = 10 #arm\n",
    "    time = 1000\n",
    "    task = 2000\n",
    "    q = []\n",
    "    n_method = 2\n",
    "    tau = 0.1\n",
    "    Rt = []\n",
    "    qm = 0\n",
    "    \n",
    "    def __init__(self):\n",
    "        for i in range(self.n):\n",
    "            self.q.append(random.gauss(0, 1))\n",
    "        self.qm = max(self.q)\n",
    "        self.Rt = [[[0.0 for i in range(self.time)] for j in range(self.task)] for k in range(self.n_method)]\n",
    "        \n",
    "    def random_pick(self, Probility_Variable, Probility):\n",
    "        x = random.uniform(0, 1)\n",
    "        cumu_prob = 0.0\n",
    "        for item, prob in zip(Probility_Variable, Probility):\n",
    "            cumu_prob += prob\n",
    "            if x < cumu_prob :break\n",
    "        return item\n",
    "\n",
    "    def Qt(self, K_a, R_a, q_a):\n",
    "        K_a += 1\n",
    "        R_a += random.gauss(q_a, 1)\n",
    "        Q_a = R_a/K_a\n",
    "        return K_a, R_a, Q_a\n",
    "\n",
    "    def greedy(self, t, task, method):\n",
    "        K = [0.0]*self.n\n",
    "        R = [0.0]*self.n\n",
    "        Q = [0.0]*self.n\n",
    "        for ti in range(t):\n",
    "            if ti < 1:\n",
    "                act = self.random_pick(range(10), [0.1]*10)\n",
    "                K[act], R[act], Q[act] = self.Qt(K[act], R[act], self.q[act])\n",
    "            else:\n",
    "                act = Q.index(max(Q))#list index & max min\n",
    "                K[act], R[act], Q[act] = self.Qt(K[act], R[act], self.q[act])\n",
    "            self.Rt[method][task][ti] = sum(R)/(ti+1)\n",
    "\n",
    "    def egreedy(self, t, e, task, method):\n",
    "        K = [0.0]*self.n\n",
    "        R = [0.0]*self.n\n",
    "        Q = [0.0]*self.n\n",
    "        for ti in range(t):\n",
    "            if ti < 1 or self.random_pick([True, False],[e, 1-e]):\n",
    "                act = self.random_pick(range(self.n), [1.0/self.n]*self.n)\n",
    "                K[act], R[act], Q[act] = self.Qt(K[act], R[act], self.q[act])\n",
    "            else:\n",
    "                act = Q.index(max(Q))#list index & max min\n",
    "                K[act], R[act], Q[act] = self.Qt(K[act], R[act], self.q[act])\n",
    "            self.Rt[method][task][ti] = sum(R)/(ti+1)\n",
    "\n",
    "    def softmax(self, t, task, method):\n",
    "        K = [0.0]*self.n\n",
    "        R = [0.0]*self.n\n",
    "        Q = [0.0]*self.n\n",
    "        Gibbs = [1.0/self.n]*self.n\n",
    "        for ti in range(t):\n",
    "            act = self.random_pick(range(self.n), Gibbs)\n",
    "            K[act], R[act], Q[act] = self.Qt(K[act], R[act], self.q[act])\n",
    "            Gibbs = self.calcGibbs(Q)\n",
    "            self.Rt[method][task][ti] = sum(R)/(ti+1)\n",
    "            \n",
    "    def calcGibbs(self, Q):\n",
    "        temp = [math.exp(Q[i]/self.tau) for i in range(self.n)]\n",
    "        sumt = sum(temp)\n",
    "        G = [temp[i]/sumt for i in range(self.n)]\n",
    "        return G\n",
    "#a_elements = range(10)\n",
    "#A = []#elements of A is the action chosen #A[t]\n",
    "#K = [0.0]*10 # K(a) counter of action a\n",
    "#R = [0.0]*10 # R(a) sum of the reward of a\n",
    "#Q = [0.0]*10 \n",
    "\n",
    " \n",
    "e = 0.1\n",
    "         \n",
    "        \n",
    "\n",
    "solver = n_armed_bandit()\n",
    "#using greedy method\n",
    "for k in range(solver.task):    \n",
    "    solver.greedy(solver.time, k, 0)\n",
    "\n",
    "    #solver.egreedy(solver.time, 0.1, k, 1)\n",
    "\n",
    "    solver.softmax(solver.time, k, 1)\n",
    "    \n",
    "\n",
    "for method_ in range(solver.n_method):\n",
    "    for ti in range(solver.time):\n",
    "        for task_ in range(1,solver.task):\n",
    "            solver.Rt[method_][0][ti] += solver.Rt[method_][task_][ti]\n",
    "        solver.Rt[method_][0][ti] = solver.Rt[method_][0][ti]/solver.task\n",
    "\n",
    "plt.plot(range(solver.time), [solver.qm]*solver.time)\n",
    "plt.plot(range(solver.time), solver.Rt[0][0][:], label = \"greedy\")\n",
    "#plt.plot(range(solver.time), solver.Rt[1][0][:], label = \"egreedy 0.1\")\n",
    "plt.plot(range(solver.time), solver.Rt[1][0][:], label = \"softmax tau=.1\")\n",
    "\n",
    "\n",
    "plt.legend(loc=\"lower right\")"
   ]
  },
  {
   "cell_type": "markdown",
   "metadata": {},
   "source": [
    "###  (5) With greedy & $\\epsilon$-greedy method ( $\\epsilon$ = 0.1 ) & softmax method ( $\\tau$ = 0.1 )"
   ]
  },
  {
   "cell_type": "code",
   "execution_count": 16,
   "metadata": {
    "collapsed": false
   },
   "outputs": [
    {
     "name": "stdout",
     "output_type": "stream",
     "text": [
      "Populating the interactive namespace from numpy and matplotlib\n"
     ]
    },
    {
     "data": {
      "text/plain": [
       "<matplotlib.legend.Legend at 0xd85c0b8>"
      ]
     },
     "execution_count": 16,
     "metadata": {},
     "output_type": "execute_result"
    },
    {
     "data": {
      "image/png": "[encoded data removed]",
      "text/plain": [
       "<matplotlib.figure.Figure at 0xbe3cf60>"
      ]
     },
     "metadata": {},
     "output_type": "display_data"
    }
   ],
   "source": [
    "# -*- coding: UTF-8 -*-\n",
    "import random, math\n",
    "import matplotlib.pyplot as plt\n",
    "%pylab inline --no-import-all\n",
    "#initialize\n",
    "class n_armed_bandit:\n",
    "    n = 10 #arm\n",
    "    time = 1000\n",
    "    task = 2000\n",
    "    q = []\n",
    "    n_method = 3\n",
    "    tau = 0.1\n",
    "    Rt = []\n",
    "    qm = 0\n",
    "    \n",
    "    def __init__(self):\n",
    "        for i in range(self.n):\n",
    "            self.q.append(random.gauss(0, 1))\n",
    "        self.qm = max(self.q)\n",
    "        self.Rt = [[[0.0 for i in range(self.time)] for j in range(self.task)] for k in range(self.n_method)]\n",
    "        \n",
    "    def random_pick(self, Probility_Variable, Probility):\n",
    "        x = random.uniform(0, 1)\n",
    "        cumu_prob = 0.0\n",
    "        for item, prob in zip(Probility_Variable, Probility):\n",
    "            cumu_prob += prob\n",
    "            if x < cumu_prob :break\n",
    "        return item\n",
    "\n",
    "    def Qt(self, K_a, R_a, q_a):\n",
    "        K_a += 1\n",
    "        R_a += random.gauss(q_a, 1)\n",
    "        Q_a = R_a/K_a\n",
    "        return K_a, R_a, Q_a\n",
    "\n",
    "    def greedy(self, t, task, method):\n",
    "        K = [0.0]*self.n\n",
    "        R = [0.0]*self.n\n",
    "        Q = [0.0]*self.n\n",
    "        for ti in range(t):\n",
    "            if ti < 1:\n",
    "                act = self.random_pick(range(10), [0.1]*10)\n",
    "                K[act], R[act], Q[act] = self.Qt(K[act], R[act], self.q[act])\n",
    "            else:\n",
    "                act = Q.index(max(Q))#list index & max min\n",
    "                K[act], R[act], Q[act] = self.Qt(K[act], R[act], self.q[act])\n",
    "            self.Rt[method][task][ti] = sum(R)/(ti+1)\n",
    "\n",
    "    def egreedy(self, t, e, task, method):\n",
    "        K = [0.0]*self.n\n",
    "        R = [0.0]*self.n\n",
    "        Q = [0.0]*self.n\n",
    "        for ti in range(t):\n",
    "            if ti < 1 or self.random_pick([True, False],[e, 1-e]):\n",
    "                act = self.random_pick(range(self.n), [1.0/self.n]*self.n)\n",
    "                K[act], R[act], Q[act] = self.Qt(K[act], R[act], self.q[act])\n",
    "            else:\n",
    "                act = Q.index(max(Q))#list index & max min\n",
    "                K[act], R[act], Q[act] = self.Qt(K[act], R[act], self.q[act])\n",
    "            self.Rt[method][task][ti] = sum(R)/(ti+1)\n",
    "\n",
    "    def softmax(self, t, task, method):\n",
    "        K = [0.0]*self.n\n",
    "        R = [0.0]*self.n\n",
    "        Q = [0.0]*self.n\n",
    "        Gibbs = [1.0/self.n]*self.n\n",
    "        for ti in range(t):\n",
    "            act = self.random_pick(range(self.n), Gibbs)\n",
    "            K[act], R[act], Q[act] = self.Qt(K[act], R[act], self.q[act])\n",
    "            Gibbs = self.calcGibbs(Q)\n",
    "            self.Rt[method][task][ti] = sum(R)/(ti+1)\n",
    "            \n",
    "    def calcGibbs(self, Q):\n",
    "        temp = [math.exp(Q[i]/self.tau) for i in range(self.n)]\n",
    "        sumt = sum(temp)\n",
    "        G = [temp[i]/sumt for i in range(self.n)]\n",
    "        return G\n",
    "#a_elements = range(10)\n",
    "#A = []#elements of A is the action chosen #A[t]\n",
    "#K = [0.0]*10 # K(a) counter of action a\n",
    "#R = [0.0]*10 # R(a) sum of the reward of a\n",
    "#Q = [0.0]*10 \n",
    "\n",
    " \n",
    "e = 0.1\n",
    "         \n",
    "        \n",
    "\n",
    "solver = n_armed_bandit()\n",
    "#using greedy method\n",
    "for k in range(solver.task):    \n",
    "    solver.greedy(solver.time, k, 0)\n",
    "\n",
    "    solver.egreedy(solver.time, 0.1, k, 1)\n",
    "\n",
    "    solver.softmax(solver.time, k, 2)\n",
    "    \n",
    "\n",
    "for method_ in range(solver.n_method):\n",
    "    for ti in range(solver.time):\n",
    "        for task_ in range(1,solver.task):\n",
    "            solver.Rt[method_][0][ti] += solver.Rt[method_][task_][ti]\n",
    "        solver.Rt[method_][0][ti] = solver.Rt[method_][0][ti]/solver.task\n",
    "\n",
    "plt.plot(range(solver.time), [solver.qm]*solver.time)\n",
    "plt.plot(range(solver.time), solver.Rt[0][0][:], label = \"greedy\")\n",
    "plt.plot(range(solver.time), solver.Rt[1][0][:], label = \"egreedy 0.1\")\n",
    "plt.plot(range(solver.time), solver.Rt[2][0][:], label = \"softmax tau=0.1\")\n",
    "\n",
    "\n",
    "plt.legend(loc=\"lower right\")"
   ]
  },
  {
   "cell_type": "markdown",
   "metadata": {},
   "source": [
    "###  (6) Incremental Implementation (Change the algorithm of $Q_t(a)$)"
   ]
  },
  {
   "cell_type": "code",
   "execution_count": 4,
   "metadata": {
    "collapsed": false
   },
   "outputs": [
    {
     "name": "stdout",
     "output_type": "stream",
     "text": [
      "Populating the interactive namespace from numpy and matplotlib\n"
     ]
    },
    {
     "data": {
      "text/plain": [
       "<matplotlib.legend.Legend at 0x18fd6128>"
      ]
     },
     "execution_count": 4,
     "metadata": {},
     "output_type": "execute_result"
    },
    {
     "data": {
      "image/png": "[encoded data removed]",
      "text/plain": [
       "<matplotlib.figure.Figure at 0x4536748>"
      ]
     },
     "metadata": {},
     "output_type": "display_data"
    }
   ],
   "source": [
    "# -*- coding: UTF-8 -*-\n",
    "import random, math\n",
    "import matplotlib.pyplot as plt\n",
    "%pylab inline --no-import-all\n",
    "#initialize\n",
    "class n_armed_bandit:\n",
    "    n = 10 #arm\n",
    "    time = 1000\n",
    "    task = 2000\n",
    "    q = []\n",
    "    n_method = 3\n",
    "    tau = 0.1\n",
    "    Rt = []\n",
    "    qm = 0\n",
    "    \n",
    "    def __init__(self):\n",
    "        for i in range(self.n):\n",
    "            self.q.append(random.gauss(0, 1))\n",
    "        self.qm = max(self.q)\n",
    "        self.Rt = [[[0.0 for i in range(self.time)] for j in range(self.task)] for k in range(self.n_method)]\n",
    "        \n",
    "    def random_pick(self, Probility_Variable, Probility):\n",
    "        x = random.uniform(0, 1)\n",
    "        cumu_prob = 0.0\n",
    "        for item, prob in zip(Probility_Variable, Probility):\n",
    "            cumu_prob += prob\n",
    "            if x < cumu_prob :break\n",
    "        return item\n",
    "\n",
    "    def Qt(self, K_a, Q_a ,q_a):\n",
    "        K_a += 1\n",
    "        R_a = random.gauss(q_a, 1)\n",
    "        Q_a = Q_a + (R_a - Q_a)/K_a\n",
    "        return K_a, Q_a, R_a\n",
    "\n",
    "    def greedy(self, t, task, method):\n",
    "        K = [0.0]*self.n\n",
    "        Q = [0.0]*self.n\n",
    "        R = 0.0\n",
    "        for ti in range(t):\n",
    "            if ti < 1:\n",
    "                act = self.random_pick(range(10), [0.1]*10)\n",
    "                K[act], Q[act], r = self.Qt(K[act], Q[act], self.q[act])\n",
    "            else:\n",
    "                act = Q.index(max(Q))#list index & max min\n",
    "                K[act], Q[act], r = self.Qt(K[act], Q[act], self.q[act])\n",
    "            R += r\n",
    "            self.Rt[method][task][ti] = R/(ti+1)\n",
    "\n",
    "    def egreedy(self, t, e, task, method):\n",
    "        K = [0.0]*self.n\n",
    "        Q = [0.0]*self.n\n",
    "        R = 0.0\n",
    "        for ti in range(t):\n",
    "            if ti < 1 or self.random_pick([True, False],[e, 1-e]):\n",
    "                act = self.random_pick(range(self.n), [1.0/self.n]*self.n)\n",
    "                K[act], Q[act], r = self.Qt(K[act], Q[act], self.q[act])\n",
    "            else:\n",
    "                act = Q.index(max(Q))#list index & max min\n",
    "                K[act], Q[act], r = self.Qt(K[act], Q[act], self.q[act])\n",
    "            R += r\n",
    "            self.Rt[method][task][ti] = R/(ti+1)\n",
    "\n",
    "    def softmax(self, t, task, method):\n",
    "        K = [0.0]*self.n\n",
    "        Q = [0.0]*self.n\n",
    "        R = 0.0\n",
    "        Gibbs = [1.0/self.n]*self.n\n",
    "        for ti in range(t):\n",
    "            act = self.random_pick(range(self.n), Gibbs)\n",
    "            K[act], Q[act], r = self.Qt(K[act], Q[act], self.q[act])\n",
    "            Gibbs = self.calcGibbs(Q)\n",
    "            R += r\n",
    "            self.Rt[method][task][ti] = R/(ti+1)\n",
    "            \n",
    "    def calcGibbs(self, Q):\n",
    "        temp = [math.exp(Q[i]/self.tau) for i in range(self.n)]\n",
    "        sumt = sum(temp)\n",
    "        G = [temp[i]/sumt for i in range(self.n)]\n",
    "        return G\n",
    "#a_elements = range(10)\n",
    "#A = []#elements of A is the action chosen #A[t]\n",
    "#K = [0.0]*10 # K(a) counter of action a\n",
    "#R = [0.0]*10 # R(a) sum of the reward of a\n",
    "#Q = [0.0]*10 \n",
    "\n",
    " \n",
    "e = 0.1\n",
    "         \n",
    "        \n",
    "\n",
    "solver = n_armed_bandit()\n",
    "#using greedy method\n",
    "for k in range(solver.task):    \n",
    "    solver.greedy(solver.time, k, 0)\n",
    "\n",
    "    solver.egreedy(solver.time, 0.1, k, 1)\n",
    "\n",
    "    solver.softmax(solver.time, k, 2)\n",
    "    \n",
    "\n",
    "for method_ in range(solver.n_method):\n",
    "    for ti in range(solver.time):\n",
    "        for task_ in range(1,solver.task):\n",
    "            solver.Rt[method_][0][ti] += solver.Rt[method_][task_][ti]\n",
    "        solver.Rt[method_][0][ti] = solver.Rt[method_][0][ti]/solver.task\n",
    "\n",
    "plt.plot(range(solver.time), [solver.qm]*solver.time)\n",
    "plt.plot(range(solver.time), solver.Rt[0][0][:], label = \"greedy\")\n",
    "plt.plot(range(solver.time), solver.Rt[1][0][:], label = \"egreedy 0.1\")\n",
    "plt.plot(range(solver.time), solver.Rt[2][0][:], label = \"softmax tau=0.1\")\n",
    "\n",
    "\n",
    "plt.legend(loc=\"lower right\")"
   ]
  },
  {
   "cell_type": "code",
   "execution_count": null,
   "metadata": {
    "collapsed": true
   },
   "outputs": [],
   "source": []
  }
 ],
 "metadata": {
  "anaconda-cloud": {},
  "kernelspec": {
   "display_name": "Python [conda root]",
   "language": "python",
   "name": "conda-root-py"
  },
  "language_info": {
   "codemirror_mode": {
    "name": "ipython",
    "version": 2
   },
   "file_extension": ".py",
   "mimetype": "text/x-python",
   "name": "python",
   "nbconvert_exporter": "python",
   "pygments_lexer": "ipython2",
   "version": "2.7.12"
  }
 },
 "nbformat": 4,
 "nbformat_minor": 0
}
